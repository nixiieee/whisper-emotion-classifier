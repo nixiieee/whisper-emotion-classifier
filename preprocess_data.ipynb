{
 "cells": [
  {
   "cell_type": "code",
   "execution_count": 24,
   "id": "0596769c",
   "metadata": {},
   "outputs": [],
   "source": [
    "import os\n",
    "os.environ[\"CUDA_DEVICE_ORDER\"] = \"PCI_BUS_ID\"\n",
    "os.environ[\"CUDA_VISIBLE_DEVICES\"] = \"1\"\n",
    "\n",
    "from datasets import load_dataset, DatasetDict, concatenate_datasets, ClassLabel\n",
    "from transformers import WhisperFeatureExtractor, AutoModelForAudioClassification\n",
    "# WhisperModel, WhisperConfig, \n",
    "import torch\n",
    "import random\n",
    "# import torch.nn as nn\n",
    "import numpy as np\n",
    "from collections import Counter\n",
    "from transformers import Trainer, TrainingArguments\n",
    "\n",
    "def set_seed(seed_value=42):\n",
    "    \"\"\"Set seed for reproducibility.\"\"\"\n",
    "    np.random.seed(seed_value)\n",
    "    torch.manual_seed(seed_value)\n",
    "    torch.cuda.manual_seed(seed_value)\n",
    "    torch.cuda.manual_seed_all(seed_value)  # if you are using multi-GPU.\n",
    "    random.seed(seed_value)\n",
    "    os.environ['PYTHONHASHSEED'] = str(seed_value)\n",
    "\n",
    "    # The below two lines are for deterministic algorithm behavior in CUDA\n",
    "    torch.backends.cudnn.deterministic = True\n",
    "    torch.backends.cudnn.benchmark = False\n",
    "\n",
    "# Set the seed\n",
    "set_seed()"
   ]
  },
  {
   "cell_type": "markdown",
   "id": "3788984b",
   "metadata": {},
   "source": [
    "# load & preprocess"
   ]
  },
  {
   "cell_type": "code",
   "execution_count": 52,
   "id": "b5ac4e2b",
   "metadata": {},
   "outputs": [
    {
     "data": {
      "application/vnd.jupyter.widget-view+json": {
       "model_id": "26a16ebe6b3e42509707c887005763df",
       "version_major": 2,
       "version_minor": 0
      },
      "text/plain": [
       "Resolving data files:   0%|          | 0/48 [00:00<?, ?it/s]"
      ]
     },
     "metadata": {},
     "output_type": "display_data"
    },
    {
     "data": {
      "application/vnd.jupyter.widget-view+json": {
       "model_id": "17d2e65d4d2548d88175d8325c6679ac",
       "version_major": 2,
       "version_minor": 0
      },
      "text/plain": [
       "Loading dataset shards:   0%|          | 0/37 [00:00<?, ?it/s]"
      ]
     },
     "metadata": {},
     "output_type": "display_data"
    }
   ],
   "source": [
    "# import data\n",
    "ds_full = load_dataset(\"xbgoose/dusha\")"
   ]
  },
  {
   "cell_type": "code",
   "execution_count": 53,
   "id": "b06e07ce",
   "metadata": {},
   "outputs": [
    {
     "data": {
      "text/plain": [
       "DatasetDict({\n",
       "    train: Dataset({\n",
       "        features: ['audio', 'emotion'],\n",
       "        num_rows: 150352\n",
       "    })\n",
       "    test: Dataset({\n",
       "        features: ['audio', 'emotion'],\n",
       "        num_rows: 14035\n",
       "    })\n",
       "})"
      ]
     },
     "execution_count": 53,
     "metadata": {},
     "output_type": "execute_result"
    }
   ],
   "source": [
    "ds_full"
   ]
  },
  {
   "cell_type": "code",
   "execution_count": 54,
   "id": "67efbb06",
   "metadata": {},
   "outputs": [
    {
     "data": {
      "application/vnd.jupyter.widget-view+json": {
       "model_id": "c2206cf9fc614290b64bfe627f05aef4",
       "version_major": 2,
       "version_minor": 0
      },
      "text/plain": [
       "Casting the dataset:   0%|          | 0/150352 [00:00<?, ? examples/s]"
      ]
     },
     "metadata": {},
     "output_type": "display_data"
    },
    {
     "data": {
      "application/vnd.jupyter.widget-view+json": {
       "model_id": "5cbd39a0311c46b3a50718de46e5fdc4",
       "version_major": 2,
       "version_minor": 0
      },
      "text/plain": [
       "Casting the dataset:   0%|          | 0/14035 [00:00<?, ? examples/s]"
      ]
     },
     "metadata": {},
     "output_type": "display_data"
    }
   ],
   "source": [
    "unique_labels = list(set(ds_full['train']['emotion']))\n",
    "class_label = ClassLabel(names=['neutral', 'angry', 'positive', 'sad', 'other']) # чтобы соблюсти изначальную нумерацию\n",
    "ds_full[\"train\"] = ds_full[\"train\"].cast_column(\"emotion\", class_label)\n",
    "ds_full[\"test\"] = ds_full[\"test\"].cast_column(\"emotion\", class_label)"
   ]
  },
  {
   "cell_type": "code",
   "execution_count": 55,
   "id": "d4d0993c",
   "metadata": {},
   "outputs": [
    {
     "data": {
      "text/plain": [
       "ClassLabel(names=['neutral', 'angry', 'positive', 'sad', 'other'], id=None)"
      ]
     },
     "execution_count": 55,
     "metadata": {},
     "output_type": "execute_result"
    }
   ],
   "source": [
    "class_label"
   ]
  },
  {
   "cell_type": "code",
   "execution_count": 56,
   "id": "2023bf57",
   "metadata": {},
   "outputs": [
    {
     "data": {
      "text/plain": [
       "DatasetDict({\n",
       "    train: Dataset({\n",
       "        features: ['audio', 'emotion'],\n",
       "        num_rows: 75176\n",
       "    })\n",
       "    val: Dataset({\n",
       "        features: ['audio', 'emotion'],\n",
       "        num_rows: 7017\n",
       "    })\n",
       "    test: Dataset({\n",
       "        features: ['audio', 'emotion'],\n",
       "        num_rows: 7018\n",
       "    })\n",
       "})"
      ]
     },
     "execution_count": 56,
     "metadata": {},
     "output_type": "execute_result"
    }
   ],
   "source": [
    "train = ds_full['train'].train_test_split(test_size=0.5, stratify_by_column=\"emotion\", seed=42)\n",
    "val_test = ds_full['test'].train_test_split(test_size=0.5, stratify_by_column=\"emotion\", seed=42)\n",
    "\n",
    "ds = DatasetDict({\n",
    "    \"train\": train['train'],\n",
    "    \"val\": val_test['train'],\n",
    "    \"test\": val_test['test'],\n",
    "})\n",
    "ds"
   ]
  },
  {
   "cell_type": "code",
   "execution_count": 57,
   "id": "c2aca548",
   "metadata": {},
   "outputs": [
    {
     "data": {
      "text/plain": [
       "array([0, 1, 2, 3, 4])"
      ]
     },
     "execution_count": 57,
     "metadata": {},
     "output_type": "execute_result"
    }
   ],
   "source": [
    "np.unique(ds['train']['emotion'])"
   ]
  },
  {
   "cell_type": "code",
   "execution_count": 58,
   "id": "b620fe79",
   "metadata": {},
   "outputs": [
    {
     "name": "stdout",
     "output_type": "stream",
     "text": [
      "train: Counter({0: 48908, 3: 10576, 1: 7837, 2: 7114, 4: 741})\n",
      "val: Counter({0: 4517, 3: 1082, 1: 723, 2: 609, 4: 86})\n",
      "test: Counter({0: 4517, 3: 1082, 1: 723, 2: 610, 4: 86})\n"
     ]
    }
   ],
   "source": [
    "def get_label_dist(ds, split):\n",
    "    ds_split = ds[split]\n",
    "    emotions_split = ds_split[\"emotion\"]\n",
    "    emotion_counts_split = Counter(emotions_split)\n",
    "    print(split + \":\", emotion_counts_split)\n",
    "    return\n",
    "\n",
    "get_label_dist(ds, \"train\")\n",
    "get_label_dist(ds, \"val\")\n",
    "get_label_dist(ds, \"test\")"
   ]
  },
  {
   "cell_type": "code",
   "execution_count": 59,
   "id": "c3b3e61b",
   "metadata": {},
   "outputs": [
    {
     "data": {
      "application/vnd.jupyter.widget-view+json": {
       "model_id": "9ad0d7eb9b1a46939603ebeeab1a0cfc",
       "version_major": 2,
       "version_minor": 0
      },
      "text/plain": [
       "Filter:   0%|          | 0/75176 [00:00<?, ? examples/s]"
      ]
     },
     "metadata": {},
     "output_type": "display_data"
    },
    {
     "data": {
      "application/vnd.jupyter.widget-view+json": {
       "model_id": "f1e4bb7b10814355bd60dd1ea8abd739",
       "version_major": 2,
       "version_minor": 0
      },
      "text/plain": [
       "Filter:   0%|          | 0/75176 [00:00<?, ? examples/s]"
      ]
     },
     "metadata": {},
     "output_type": "display_data"
    },
    {
     "data": {
      "application/vnd.jupyter.widget-view+json": {
       "model_id": "e9ca932f15f9438db350d1005fe0b65a",
       "version_major": 2,
       "version_minor": 0
      },
      "text/plain": [
       "Filter:   0%|          | 0/7017 [00:00<?, ? examples/s]"
      ]
     },
     "metadata": {},
     "output_type": "display_data"
    },
    {
     "data": {
      "application/vnd.jupyter.widget-view+json": {
       "model_id": "69a29fefe3624308af63ebd5bd293d08",
       "version_major": 2,
       "version_minor": 0
      },
      "text/plain": [
       "Filter:   0%|          | 0/7017 [00:00<?, ? examples/s]"
      ]
     },
     "metadata": {},
     "output_type": "display_data"
    },
    {
     "data": {
      "application/vnd.jupyter.widget-view+json": {
       "model_id": "28aa88678ce34d4b8ff6790ad059373a",
       "version_major": 2,
       "version_minor": 0
      },
      "text/plain": [
       "Filter:   0%|          | 0/7018 [00:00<?, ? examples/s]"
      ]
     },
     "metadata": {},
     "output_type": "display_data"
    },
    {
     "data": {
      "application/vnd.jupyter.widget-view+json": {
       "model_id": "e186c26b94344d62ae56ca3e13e16328",
       "version_major": 2,
       "version_minor": 0
      },
      "text/plain": [
       "Filter:   0%|          | 0/7018 [00:00<?, ? examples/s]"
      ]
     },
     "metadata": {},
     "output_type": "display_data"
    },
    {
     "name": "stdout",
     "output_type": "stream",
     "text": [
      "train: Counter({0: 10600, 3: 10576, 1: 7837, 2: 7114, 4: 741})\n",
      "val: Counter({0: 1100, 3: 1082, 1: 723, 2: 609, 4: 86})\n",
      "test: Counter({0: 1100, 3: 1082, 1: 723, 2: 610, 4: 86})\n"
     ]
    }
   ],
   "source": [
    "# Делаем более сбалансированный датасет\n",
    "def limit_class_samples(dataset_dict, split='train', label_field='label', class_limits=None, seed=42):\n",
    "    split_dataset = dataset_dict[split]\n",
    "\n",
    "    filtered_subsets = []\n",
    "\n",
    "    for class_value, max_count in class_limits.items():\n",
    "        subset = split_dataset.filter(lambda x: x[label_field] == class_value)\n",
    "        subset = subset.select(range(min(len(subset), max_count)))\n",
    "        filtered_subsets.append(subset)\n",
    "\n",
    "    all_limited_classes = set(class_limits.keys())\n",
    "    remaining = split_dataset.filter(lambda x: x[label_field] not in all_limited_classes)\n",
    "    filtered_subsets.append(remaining)\n",
    "\n",
    "    new_split = concatenate_datasets(filtered_subsets).shuffle(seed=seed)\n",
    "\n",
    "    new_dataset_dict = dataset_dict.copy()\n",
    "    new_dataset_dict[split] = new_split\n",
    "    return new_dataset_dict\n",
    "\n",
    "new_dataset = limit_class_samples(ds, split='train', label_field='emotion', class_limits={0: 10600})\n",
    "new_dataset = limit_class_samples(new_dataset, split='val', label_field='emotion', class_limits={0: 1100})\n",
    "new_dataset = limit_class_samples(new_dataset, split='test', label_field='emotion', class_limits={0: 1100})\n",
    "\n",
    "get_label_dist(new_dataset, \"train\")\n",
    "get_label_dist(new_dataset, \"val\")\n",
    "get_label_dist(new_dataset, \"test\")"
   ]
  },
  {
   "cell_type": "code",
   "execution_count": 65,
   "id": "7c33fefd",
   "metadata": {},
   "outputs": [
    {
     "data": {
      "text/plain": [
       "DatasetDict({\n",
       "    train: Dataset({\n",
       "        features: ['audio', 'emotion'],\n",
       "        num_rows: 36868\n",
       "    })\n",
       "    val: Dataset({\n",
       "        features: ['audio', 'emotion'],\n",
       "        num_rows: 3600\n",
       "    })\n",
       "    test: Dataset({\n",
       "        features: ['audio', 'emotion'],\n",
       "        num_rows: 3601\n",
       "    })\n",
       "})"
      ]
     },
     "execution_count": 65,
     "metadata": {},
     "output_type": "execute_result"
    }
   ],
   "source": [
    "ds = DatasetDict({\n",
    "    \"train\": new_dataset['train'],\n",
    "    \"val\": new_dataset['val'],\n",
    "    \"test\": new_dataset['test'],\n",
    "})\n",
    "ds"
   ]
  },
  {
   "cell_type": "code",
   "execution_count": 66,
   "id": "859325e2",
   "metadata": {},
   "outputs": [
    {
     "data": {
      "application/vnd.jupyter.widget-view+json": {
       "model_id": "c972a51935d14da487ccd88e89829427",
       "version_major": 2,
       "version_minor": 0
      },
      "text/plain": [
       "Uploading the dataset shards:   0%|          | 0/11 [00:00<?, ?it/s]"
      ]
     },
     "metadata": {},
     "output_type": "display_data"
    },
    {
     "data": {
      "application/vnd.jupyter.widget-view+json": {
       "model_id": "ee595ff9ba7f496d889f0b523bc2fa2b",
       "version_major": 2,
       "version_minor": 0
      },
      "text/plain": [
       "Map:   0%|          | 0/3352 [00:00<?, ? examples/s]"
      ]
     },
     "metadata": {},
     "output_type": "display_data"
    },
    {
     "data": {
      "application/vnd.jupyter.widget-view+json": {
       "model_id": "6ed8e01181bc4aa6a9b827e320a0d296",
       "version_major": 2,
       "version_minor": 0
      },
      "text/plain": [
       "Creating parquet from Arrow format:   0%|          | 0/34 [00:00<?, ?ba/s]"
      ]
     },
     "metadata": {},
     "output_type": "display_data"
    },
    {
     "data": {
      "application/vnd.jupyter.widget-view+json": {
       "model_id": "dcc6dab5f66c48d281c4b0f48f3764a3",
       "version_major": 2,
       "version_minor": 0
      },
      "text/plain": [
       "Map:   0%|          | 0/3352 [00:00<?, ? examples/s]"
      ]
     },
     "metadata": {},
     "output_type": "display_data"
    },
    {
     "data": {
      "application/vnd.jupyter.widget-view+json": {
       "model_id": "95ecaf44f6dc4361bbc3f254e43c8c50",
       "version_major": 2,
       "version_minor": 0
      },
      "text/plain": [
       "Creating parquet from Arrow format:   0%|          | 0/34 [00:00<?, ?ba/s]"
      ]
     },
     "metadata": {},
     "output_type": "display_data"
    },
    {
     "data": {
      "application/vnd.jupyter.widget-view+json": {
       "model_id": "278c9e086fb641e9b2319d24cf3e0768",
       "version_major": 2,
       "version_minor": 0
      },
      "text/plain": [
       "Map:   0%|          | 0/3352 [00:00<?, ? examples/s]"
      ]
     },
     "metadata": {},
     "output_type": "display_data"
    },
    {
     "data": {
      "application/vnd.jupyter.widget-view+json": {
       "model_id": "aeff24c31b2442e8ad954bb98e3b0e0a",
       "version_major": 2,
       "version_minor": 0
      },
      "text/plain": [
       "Creating parquet from Arrow format:   0%|          | 0/34 [00:00<?, ?ba/s]"
      ]
     },
     "metadata": {},
     "output_type": "display_data"
    },
    {
     "data": {
      "application/vnd.jupyter.widget-view+json": {
       "model_id": "88d24455ce9e41f59237c01a449622c0",
       "version_major": 2,
       "version_minor": 0
      },
      "text/plain": [
       "Map:   0%|          | 0/3352 [00:00<?, ? examples/s]"
      ]
     },
     "metadata": {},
     "output_type": "display_data"
    },
    {
     "data": {
      "application/vnd.jupyter.widget-view+json": {
       "model_id": "eb1502f4c292478681582f8d651a0ad5",
       "version_major": 2,
       "version_minor": 0
      },
      "text/plain": [
       "Creating parquet from Arrow format:   0%|          | 0/34 [00:00<?, ?ba/s]"
      ]
     },
     "metadata": {},
     "output_type": "display_data"
    },
    {
     "data": {
      "application/vnd.jupyter.widget-view+json": {
       "model_id": "c428a24c48a442468b0530511e895226",
       "version_major": 2,
       "version_minor": 0
      },
      "text/plain": [
       "Map:   0%|          | 0/3352 [00:00<?, ? examples/s]"
      ]
     },
     "metadata": {},
     "output_type": "display_data"
    },
    {
     "data": {
      "application/vnd.jupyter.widget-view+json": {
       "model_id": "717e3bc1850a43ebae1cfe3d3b9ae7f4",
       "version_major": 2,
       "version_minor": 0
      },
      "text/plain": [
       "Creating parquet from Arrow format:   0%|          | 0/34 [00:00<?, ?ba/s]"
      ]
     },
     "metadata": {},
     "output_type": "display_data"
    },
    {
     "data": {
      "application/vnd.jupyter.widget-view+json": {
       "model_id": "84425e42515a4d20818476e761b27763",
       "version_major": 2,
       "version_minor": 0
      },
      "text/plain": [
       "Map:   0%|          | 0/3352 [00:00<?, ? examples/s]"
      ]
     },
     "metadata": {},
     "output_type": "display_data"
    },
    {
     "data": {
      "application/vnd.jupyter.widget-view+json": {
       "model_id": "e57f8ef49d70429196e2956eba10ed3d",
       "version_major": 2,
       "version_minor": 0
      },
      "text/plain": [
       "Creating parquet from Arrow format:   0%|          | 0/34 [00:00<?, ?ba/s]"
      ]
     },
     "metadata": {},
     "output_type": "display_data"
    },
    {
     "data": {
      "application/vnd.jupyter.widget-view+json": {
       "model_id": "242b26671619461796e9bd3c13178961",
       "version_major": 2,
       "version_minor": 0
      },
      "text/plain": [
       "Map:   0%|          | 0/3352 [00:00<?, ? examples/s]"
      ]
     },
     "metadata": {},
     "output_type": "display_data"
    },
    {
     "data": {
      "application/vnd.jupyter.widget-view+json": {
       "model_id": "65000822da8c45128bc7ac7a4467d248",
       "version_major": 2,
       "version_minor": 0
      },
      "text/plain": [
       "Creating parquet from Arrow format:   0%|          | 0/34 [00:00<?, ?ba/s]"
      ]
     },
     "metadata": {},
     "output_type": "display_data"
    },
    {
     "data": {
      "application/vnd.jupyter.widget-view+json": {
       "model_id": "f3d5f4de6e93492b91665762c522a286",
       "version_major": 2,
       "version_minor": 0
      },
      "text/plain": [
       "Map:   0%|          | 0/3351 [00:00<?, ? examples/s]"
      ]
     },
     "metadata": {},
     "output_type": "display_data"
    },
    {
     "data": {
      "application/vnd.jupyter.widget-view+json": {
       "model_id": "f8d80ddfaa5d4401b1b6c3c369a195b8",
       "version_major": 2,
       "version_minor": 0
      },
      "text/plain": [
       "Creating parquet from Arrow format:   0%|          | 0/34 [00:00<?, ?ba/s]"
      ]
     },
     "metadata": {},
     "output_type": "display_data"
    },
    {
     "data": {
      "application/vnd.jupyter.widget-view+json": {
       "model_id": "48823eab01c8460eba3f62f0ddf886e2",
       "version_major": 2,
       "version_minor": 0
      },
      "text/plain": [
       "Map:   0%|          | 0/3351 [00:00<?, ? examples/s]"
      ]
     },
     "metadata": {},
     "output_type": "display_data"
    },
    {
     "data": {
      "application/vnd.jupyter.widget-view+json": {
       "model_id": "9cc395e8b4a442ecb41d209ddce2391f",
       "version_major": 2,
       "version_minor": 0
      },
      "text/plain": [
       "Creating parquet from Arrow format:   0%|          | 0/34 [00:00<?, ?ba/s]"
      ]
     },
     "metadata": {},
     "output_type": "display_data"
    },
    {
     "data": {
      "application/vnd.jupyter.widget-view+json": {
       "model_id": "57332ee2249d471bbf6ff65e1f08328e",
       "version_major": 2,
       "version_minor": 0
      },
      "text/plain": [
       "Map:   0%|          | 0/3351 [00:00<?, ? examples/s]"
      ]
     },
     "metadata": {},
     "output_type": "display_data"
    },
    {
     "data": {
      "application/vnd.jupyter.widget-view+json": {
       "model_id": "6c5c89d20e0d43d79b42035a765c8417",
       "version_major": 2,
       "version_minor": 0
      },
      "text/plain": [
       "Creating parquet from Arrow format:   0%|          | 0/34 [00:00<?, ?ba/s]"
      ]
     },
     "metadata": {},
     "output_type": "display_data"
    },
    {
     "data": {
      "application/vnd.jupyter.widget-view+json": {
       "model_id": "693242b7ccb44acaba7dab633b59ad92",
       "version_major": 2,
       "version_minor": 0
      },
      "text/plain": [
       "Map:   0%|          | 0/3351 [00:00<?, ? examples/s]"
      ]
     },
     "metadata": {},
     "output_type": "display_data"
    },
    {
     "data": {
      "application/vnd.jupyter.widget-view+json": {
       "model_id": "24c3f8174bc447d5996f61be43981d3e",
       "version_major": 2,
       "version_minor": 0
      },
      "text/plain": [
       "Creating parquet from Arrow format:   0%|          | 0/34 [00:00<?, ?ba/s]"
      ]
     },
     "metadata": {},
     "output_type": "display_data"
    },
    {
     "data": {
      "application/vnd.jupyter.widget-view+json": {
       "model_id": "524f3ccbf7244eae8d0d22cd686a3695",
       "version_major": 2,
       "version_minor": 0
      },
      "text/plain": [
       "Uploading the dataset shards:   0%|          | 0/2 [00:00<?, ?it/s]"
      ]
     },
     "metadata": {},
     "output_type": "display_data"
    },
    {
     "data": {
      "application/vnd.jupyter.widget-view+json": {
       "model_id": "21083fdca82c4ceb84c913b1f325b995",
       "version_major": 2,
       "version_minor": 0
      },
      "text/plain": [
       "Map:   0%|          | 0/1800 [00:00<?, ? examples/s]"
      ]
     },
     "metadata": {},
     "output_type": "display_data"
    },
    {
     "data": {
      "application/vnd.jupyter.widget-view+json": {
       "model_id": "2b7f5f05047e49b1aa25362f67f2d719",
       "version_major": 2,
       "version_minor": 0
      },
      "text/plain": [
       "Creating parquet from Arrow format:   0%|          | 0/18 [00:00<?, ?ba/s]"
      ]
     },
     "metadata": {},
     "output_type": "display_data"
    },
    {
     "data": {
      "application/vnd.jupyter.widget-view+json": {
       "model_id": "fdad1d94d7ab4d11993f10dffb4dc929",
       "version_major": 2,
       "version_minor": 0
      },
      "text/plain": [
       "Map:   0%|          | 0/1800 [00:00<?, ? examples/s]"
      ]
     },
     "metadata": {},
     "output_type": "display_data"
    },
    {
     "data": {
      "application/vnd.jupyter.widget-view+json": {
       "model_id": "768f7c5e10de4d2e82c5ae5a9a5b50f6",
       "version_major": 2,
       "version_minor": 0
      },
      "text/plain": [
       "Creating parquet from Arrow format:   0%|          | 0/18 [00:00<?, ?ba/s]"
      ]
     },
     "metadata": {},
     "output_type": "display_data"
    },
    {
     "data": {
      "application/vnd.jupyter.widget-view+json": {
       "model_id": "45fb648974134966a1bf083a84fdb1ef",
       "version_major": 2,
       "version_minor": 0
      },
      "text/plain": [
       "Uploading the dataset shards:   0%|          | 0/2 [00:00<?, ?it/s]"
      ]
     },
     "metadata": {},
     "output_type": "display_data"
    },
    {
     "data": {
      "application/vnd.jupyter.widget-view+json": {
       "model_id": "6651abf3936f47f29ef2f6fcad90258d",
       "version_major": 2,
       "version_minor": 0
      },
      "text/plain": [
       "Map:   0%|          | 0/1801 [00:00<?, ? examples/s]"
      ]
     },
     "metadata": {},
     "output_type": "display_data"
    },
    {
     "data": {
      "application/vnd.jupyter.widget-view+json": {
       "model_id": "93c269749ffe4897b34d992ba3eb437c",
       "version_major": 2,
       "version_minor": 0
      },
      "text/plain": [
       "Creating parquet from Arrow format:   0%|          | 0/19 [00:00<?, ?ba/s]"
      ]
     },
     "metadata": {},
     "output_type": "display_data"
    },
    {
     "data": {
      "application/vnd.jupyter.widget-view+json": {
       "model_id": "297b5815afd248b3be12b85ea9029f23",
       "version_major": 2,
       "version_minor": 0
      },
      "text/plain": [
       "Map:   0%|          | 0/1800 [00:00<?, ? examples/s]"
      ]
     },
     "metadata": {},
     "output_type": "display_data"
    },
    {
     "data": {
      "application/vnd.jupyter.widget-view+json": {
       "model_id": "6c6a5595409c460f8e3f9ca5aa22d74b",
       "version_major": 2,
       "version_minor": 0
      },
      "text/plain": [
       "Creating parquet from Arrow format:   0%|          | 0/18 [00:00<?, ?ba/s]"
      ]
     },
     "metadata": {},
     "output_type": "display_data"
    },
    {
     "data": {
      "application/vnd.jupyter.widget-view+json": {
       "model_id": "78fc9674bb694345b80408dde81484f5",
       "version_major": 2,
       "version_minor": 0
      },
      "text/plain": [
       "README.md:   0%|          | 0.00/686 [00:00<?, ?B/s]"
      ]
     },
     "metadata": {},
     "output_type": "display_data"
    },
    {
     "data": {
      "text/plain": [
       "CommitInfo(commit_url='https://huggingface.co/datasets/nixiieee/dusha_balanced/commit/94ef044a030bc8db41c4fcceb07b349f2fdb8fe0', commit_message='Upload dataset', commit_description='', oid='94ef044a030bc8db41c4fcceb07b349f2fdb8fe0', pr_url=None, repo_url=RepoUrl('https://huggingface.co/datasets/nixiieee/dusha_balanced', endpoint='https://huggingface.co', repo_type='dataset', repo_id='nixiieee/dusha_balanced'), pr_revision=None, pr_num=None)"
      ]
     },
     "execution_count": 66,
     "metadata": {},
     "output_type": "execute_result"
    }
   ],
   "source": [
    "ds.push_to_hub('nixiieee/dusha_balanced')"
   ]
  }
 ],
 "metadata": {
  "kernelspec": {
   "display_name": "venv",
   "language": "python",
   "name": "python3"
  },
  "language_info": {
   "codemirror_mode": {
    "name": "ipython",
    "version": 3
   },
   "file_extension": ".py",
   "mimetype": "text/x-python",
   "name": "python",
   "nbconvert_exporter": "python",
   "pygments_lexer": "ipython3",
   "version": "3.11.11"
  }
 },
 "nbformat": 4,
 "nbformat_minor": 5
}
